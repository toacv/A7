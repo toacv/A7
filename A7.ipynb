{
 "cells": [
  {
   "cell_type": "markdown",
   "id": "6ddaa858",
   "metadata": {},
   "source": [
    "https://a7-y630.onrender.com"
   ]
  },
  {
   "cell_type": "code",
   "execution_count": 6,
   "id": "4e412dad-27e7-452a-a19e-385392f7b81e",
   "metadata": {},
   "outputs": [],
   "source": [
    "# https://a7-y630.onrender.com\n",
    "import dash\n",
    "from dash import dcc, html\n",
    "from dash.dependencies import Input, Output\n",
    "import pandas as pd\n",
    "import plotly.express as px\n",
    "import pycountry\n"
   ]
  },
  {
   "cell_type": "code",
   "execution_count": 2,
   "id": "3f69de05",
   "metadata": {},
   "outputs": [],
   "source": [
    "# Step 1: Create the dataset\n",
    "def create_dataset():\n",
    "    url = 'https://en.wikipedia.org/wiki/List_of_FIFA_World_Cup_finals'\n",
    "    tables = pd.read_html(url)\n",
    "    \n",
    "    for i, table in enumerate(tables):\n",
    "        if 'Year' in str(table.columns):\n",
    "            df = table\n",
    "            break\n",
    "    \n",
    "    df.columns = [str(col).strip() for col in df.columns]\n",
    "    df['Winners'] = df['Winners'].astype(str).apply(lambda x: 'Germany' if x in ['West Germany', 'Germany'] else x)\n",
    "    df['Winners'] = df['Winners'].replace('England', 'United Kingdom')\n",
    "    df['Runners-up'] = df['Runners-up'].astype(str).apply(lambda x: 'Germany' if x in ['West Germany', 'Germany'] else x)\n",
    "    \n",
    "    return df\n",
    "\n",
    "df = create_dataset()\n",
    "\n",
    "win_counts = df['Winners'].value_counts().reset_index()\n",
    "win_counts.columns = ['Country', 'Wins']\n",
    "\n",
    "def get_iso_alpha3(country):\n",
    "    try:\n",
    "        return pycountry.countries.get(name=country).alpha_3\n",
    "    except:\n",
    "        if country == 'United Kingdom':\n",
    "            return 'GBR'\n",
    "        return None\n",
    "\n",
    "win_counts['ISO'] = win_counts['Country'].apply(get_iso_alpha3)\n",
    "win_counts = win_counts.dropna(subset=['ISO'])"
   ]
  },
  {
   "cell_type": "code",
   "execution_count": 3,
   "id": "05bb6a15-513d-4b37-8a8d-32b371fc6b96",
   "metadata": {},
   "outputs": [],
   "source": [
    "app = dash.Dash()\n",
    "server = app.server\n",
    "\n",
    "app.layout = html.Div([\n",
    "    html.H1('FIFA World Cup Winners Dashboard', style={'textAlign': 'center'}),\n",
    "    \n",
    "    # Part a: All winning countries\n",
    "    html.Div([\n",
    "        html.H2('All-Time World Cup Winners', style={'textAlign': 'center'}),\n",
    "        html.Ul([\n",
    "            html.Li(f\"{country} ({wins} wins)\") \n",
    "            for country, wins in zip(win_counts['Country'], win_counts['Wins'])\n",
    "        ], style={'width': '50%', 'margin': 'auto'})\n",
    "    ]),\n",
    "    \n",
    "    # Choropleth map\n",
    "    html.Div([\n",
    "        html.H2('World Cup Wins by Country', style={'textAlign': 'center'}),\n",
    "        dcc.Graph(\n",
    "            figure=px.choropleth(\n",
    "                win_counts,\n",
    "                locations='ISO',\n",
    "                color='Wins',\n",
    "                hover_name='Country',\n",
    "                color_continuous_scale='Viridis',\n",
    "                title='World Cup Victories'\n",
    "            ).update_layout(\n",
    "                geo=dict(showframe=False, showcoastlines=True),\n",
    "                width=1000,\n",
    "                height=600\n",
    "            )\n",
    "        )\n",
    "    ]),\n",
    "    \n",
    "    # Part b: Country wins selector\n",
    "    html.Div([\n",
    "        html.H2('Number of Wins by Country', style={'textAlign': 'center'}),\n",
    "        dcc.Dropdown(\n",
    "            id='country-select',\n",
    "            options=[{'label': c, 'value': c} for c in sorted(win_counts['Country'])],\n",
    "            value=win_counts['Country'].iloc[0],\n",
    "            style={'width': '50%', 'margin': 'auto'}\n",
    "        ),\n",
    "        html.Div(id='win-count', style={'textAlign': 'center', 'margin': '20px'})\n",
    "    ]),\n",
    "    \n",
    "    # Part c: Year selection\n",
    "    html.Div([\n",
    "        html.H2('Final Match Details by Year', style={'textAlign': 'center'}),\n",
    "        dcc.Dropdown(\n",
    "            id='year-select',\n",
    "            options=[{'label': str(y), 'value': y} for y in sorted(df['Year'])],\n",
    "            value=df['Year'].iloc[-1],\n",
    "            style={'width': '50%', 'margin': 'auto'}\n",
    "        ),\n",
    "        html.Div(id='year-details', style={'textAlign': 'center', 'margin': '20px'})\n",
    "    ])\n",
    "], style={'padding': '20px'})"
   ]
  },
  {
   "cell_type": "code",
   "execution_count": 4,
   "id": "7f22ec64-511f-47bb-86e7-c77d45dee401",
   "metadata": {},
   "outputs": [],
   "source": [
    "@app.callback(\n",
    "    Output('win-count', 'children'),\n",
    "    Input('country-select', 'value')\n",
    ")\n",
    "def update_win_count(country):\n",
    "    count = win_counts[win_counts['Country'] == country]['Wins'].values[0]\n",
    "    return f'{country} has won the World Cup {count} time{\"s\" if count > 1 else \"\"}'\n",
    "\n",
    "@app.callback(\n",
    "    Output('year-details', 'children'),\n",
    "    Input('year-select', 'value')\n",
    ")\n",
    "def update_year_details(year):\n",
    "    match_data = df[df['Year'] == year].iloc[0]\n",
    "    return html.Div([\n",
    "        html.H3(f'World Cup {year}'),\n",
    "        html.P(f'Winner: {match_data[\"Winners\"]}'),\n",
    "        html.P(f'Runner-up: {match_data[\"Runners-up\"]}')\n",
    "    ])"
   ]
  },
  {
   "cell_type": "code",
   "execution_count": 5,
   "id": "03855303",
   "metadata": {},
   "outputs": [
    {
     "data": {
      "text/html": [
       "\n",
       "        <iframe\n",
       "            width=\"100%\"\n",
       "            height=\"650\"\n",
       "            src=\"http://127.0.0.1:8050/\"\n",
       "            frameborder=\"0\"\n",
       "            allowfullscreen\n",
       "            \n",
       "        ></iframe>\n",
       "        "
      ],
      "text/plain": [
       "<IPython.lib.display.IFrame at 0x2b68307e270>"
      ]
     },
     "metadata": {},
     "output_type": "display_data"
    }
   ],
   "source": [
    "if __name__ == '__main__':\n",
    "    app.run(debug=True)"
   ]
  }
 ],
 "metadata": {
  "kernelspec": {
   "display_name": "Python 3",
   "language": "python",
   "name": "python3"
  },
  "language_info": {
   "codemirror_mode": {
    "name": "ipython",
    "version": 3
   },
   "file_extension": ".py",
   "mimetype": "text/x-python",
   "name": "python",
   "nbconvert_exporter": "python",
   "pygments_lexer": "ipython3",
   "version": "3.13.2"
  }
 },
 "nbformat": 4,
 "nbformat_minor": 5
}
